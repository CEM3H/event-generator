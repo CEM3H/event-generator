{
 "cells": [
  {
   "cell_type": "markdown",
   "metadata": {},
   "source": [
    "## Генерация почти случайных временных рядов "
   ]
  },
  {
   "cell_type": "code",
   "execution_count": 2,
   "metadata": {},
   "outputs": [],
   "source": [
    "import scipy as sp\n",
    "import numpy as np\n",
    "import scipy.stats as sts\n",
    "import matplotlib.pyplot as plt\n",
    "%matplotlib inline"
   ]
  },
  {
   "cell_type": "markdown",
   "metadata": {},
   "source": [
    "## Inputs:\n",
    "**period_len** - a number of events to generate. It's recommended to use values from 10000 to 10000000. If less - try to set **length_random** as *False* and set a **length** to a lesser values (e.g. up to 100). If you set more than 10 million, it may cause a memory overflow\n",
    "\n",
    "**length** - length of a single sub-period where function outputs are equal. \n",
    "\n",
    "**default_dir**(default == 'Still') - the direction of a first change. For now it's not very useful because thre are many decisions of directions. This parameter most likely will be deprecated if decision-making logic will not change dramatically. Values: 'Still', 'Down' and 'Up'.\n",
    "\n",
    "**still_prob**(optional, default == 0.5) - a probability of 'Still' direction choice for each next step. This is an attempt to provide a variety to series. This is implemented because each step direction depends on previous direction, so this parameter tries to reset previous trend and give series a chance to statr a new one.\n",
    "\n",
    "**deviation**(default == 1) - used to calculate _step_ as choice from *np.linspace(0, dev * 2, 100)*, based on normal distibution, so step is normally distributed around **deviation**/**length**, and remains unchanged during all the process of series generating\n",
    "\n",
    "**length_random** (optional, default == False) - flag of randomizing _step_. If _True_,  _step_ is calculated as _np.random.randint(period_len/10000, period_len/1000)_. NOTE: this is imperfect for generating short series (lesser than 10000 points), but works for long ones\n",
    "\n",
    "**direction_random** (optional, default == False) - flag of randomizing _direction_. If  == True,  **default_dir** is ignored and first direction has equal chances for all thee options"
   ]
  },
  {
   "cell_type": "code",
   "execution_count": 3,
   "metadata": {},
   "outputs": [],
   "source": [
    "def generate_series(period_len, length, default_dir = 'Still', still_prob = 0.5,\n",
    "                    deviation = 1, \n",
    "                    length_random = False,\n",
    "                    direction_random = False):\n",
    "    '''period_len - количество точек, которые необходимо сгенерировать\n",
    "length - длина одного периода монотонного изменения, в точках (одинакова для всего кол-ва точек)\n",
    "default_dir - направление первого изменения (принимает значения:{'Still', 'Down', 'Up'}, по умолчанию = 'Still')\n",
    "deviation - величина отклонения на каждом шаге (задается случайно из диапазона [0, dev*2], одинакова )\n",
    "length_random_ - флаг случайного выбора шага. Если == True, то __length__ игнорируется, по умолчанию = False\n",
    "direction_random - флаг случайного выбора направление. Если == True, то __default_dir__ игнорируется, по умолчанию = False\n",
    "still_prob - вероятность того, что следующий шаг будет в направлении 'Still' и ряд останется без изменения на протяжении следующего шага\n",
    "\n",
    "На выходе функция выдает ряд чисел длиной в period_len'''\n",
    "    period_len = int(period_len)\n",
    "    directions_dict = {'Still':1/3, 'Down':1/3, 'Up':1/3}\n",
    "    directions_list = []\n",
    "    def dir_prob (dirs):\n",
    "        if dirs[-1] == 'Still':\n",
    "            directions_dict = {'Still': still_prob,\n",
    "                               'Down':  (1 - still_prob)/2,\n",
    "                               'Up':    (1 - still_prob)/2}\n",
    "        elif dirs[-1] == 'Down':\n",
    "            directions_dict = {'Still': still_prob,\n",
    "                               'Down':  (1 - still_prob)/10*8,\n",
    "                               'Up':    (1 - still_prob)/10*2}\n",
    "        else: \n",
    "            directions_dict = {'Still': still_prob,\n",
    "                               'Down':  (1 - still_prob)/10*2,\n",
    "                               'Up':    (1 - still_prob)/10*8}\n",
    "        dirs = np.random.choice(list(directions_dict.keys()), p = list(directions_dict.values()))\n",
    "        return dirs\n",
    "    \n",
    "    # Блок создания пустого массива значений отклонения\n",
    "    if length_random == True:\n",
    "        length = np.random.randint(period_len/10000, period_len/1000)\n",
    "    series = np.zeros(period_len + length*2) #\n",
    "       \n",
    "    ## Step calculation\n",
    "    values_range = np.linspace(0, deviation, 100)\n",
    "    values_probs = sts.norm().pdf(values_range) / np.sum(sts.norm().pdf(values_range))\n",
    "    step = np.random.choice(values_range, p = values_probs)/length\n",
    "    \n",
    "    # row below is used for debug\n",
    "    # probs_table = pd.DataFrame([values_range, values_probs]).transpose()\n",
    "\n",
    "    # Блок выбора направления изменения\n",
    "    n_points = int((period_len + length*2)/length)\n",
    "    for i in range(n_points):\n",
    "        if i == 0:\n",
    "            if direction_random == True:\n",
    "                direction = np.random.choice(list(directions_dict.keys()), p = list(directions_dict.values()))\n",
    "            else:\n",
    "                direction = default_dir\n",
    "        else:\n",
    "            direction = dir_prob(directions_list)\n",
    "        directions_list.append(direction)\n",
    "        last_index = i * length\n",
    "        \n",
    "    # Блок генерации ряда\n",
    "        for j in range(last_index, last_index + length):\n",
    "            if directions_list[-1] == 'Still':\n",
    "                series[j] = series[j-1]\n",
    "            elif directions_list[-1] == 'Down':\n",
    "                series[j] = series[j-1] - step\n",
    "            else:\n",
    "                series[j] = series[j-1] + step\n",
    "    return series[:period_len]\n",
    "        "
   ]
  },
  {
   "cell_type": "markdown",
   "metadata": {},
   "source": [
    "# Test"
   ]
  },
  {
   "cell_type": "code",
   "execution_count": 4,
   "metadata": {
    "scrolled": false
   },
   "outputs": [
    {
     "name": "stdout",
     "output_type": "stream",
     "text": [
      "Wall time: 849 ms\n"
     ]
    },
    {
     "data": {
      "text/plain": [
       "[<matplotlib.lines.Line2D at 0x246ed6f92e8>]"
      ]
     },
     "execution_count": 4,
     "metadata": {},
     "output_type": "execute_result"
    },
    {
     "data": {
      "image/png": "[encoded data removed]",
      "text/plain": [
       "<matplotlib.figure.Figure at 0x246ec277048>"
      ]
     },
     "metadata": {},
     "output_type": "display_data"
    }
   ],
   "source": [
    "%%time\n",
    "#plt.figure(figsize=(15,10))\n",
    "plt.plot(generate_series (1e6, 100, 'Still', .9,deviation = .1, length_random = False))"
   ]
  }
 ],
 "metadata": {
  "kernelspec": {
   "display_name": "Python 3",
   "language": "python",
   "name": "python3"
  },
  "language_info": {
   "codemirror_mode": {
    "name": "ipython",
    "version": 3
   },
   "file_extension": ".py",
   "mimetype": "text/x-python",
   "name": "python",
   "nbconvert_exporter": "python",
   "pygments_lexer": "ipython3",
   "version": "3.6.3"
  }
 },
 "nbformat": 4,
 "nbformat_minor": 2
}
